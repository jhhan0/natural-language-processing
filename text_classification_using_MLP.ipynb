{
  "nbformat": 4,
  "nbformat_minor": 0,
  "metadata": {
    "colab": {
      "name": "text_classification_using_MLP.ipynb",
      "provenance": [],
      "collapsed_sections": [],
      "authorship_tag": "ABX9TyNElh0dr0lJXvojY4PW63S5",
      "include_colab_link": true
    },
    "kernelspec": {
      "name": "python3",
      "display_name": "Python 3"
    },
    "language_info": {
      "name": "python"
    }
  },
  "cells": [
    {
      "cell_type": "markdown",
      "metadata": {
        "id": "view-in-github",
        "colab_type": "text"
      },
      "source": [
        "<a href=\"https://colab.research.google.com/github/jhhan0/learning-nlp/blob/main/text_classification_using_MLP.ipynb\" target=\"_parent\"><img src=\"https://colab.research.google.com/assets/colab-badge.svg\" alt=\"Open In Colab\"/></a>"
      ]
    },
    {
      "cell_type": "code",
      "metadata": {
        "id": "Vt23WAjE5IYk"
      },
      "source": [
        "import pandas as pd \n",
        "import numpy as np\n",
        "import matplotlib.pyplot as plt\n",
        "from sklearn.datasets import fetch_20newsgroups\n",
        "from tensorflow.keras.preprocessing.text import Tokenizer\n",
        "from tensorflow.keras.utils import to_categorical"
      ],
      "execution_count": 10,
      "outputs": []
    },
    {
      "cell_type": "markdown",
      "metadata": {
        "id": "b6Gs8cPUZWzc"
      },
      "source": [
        "## Understand data about Twenty Newsgroups"
      ]
    },
    {
      "cell_type": "code",
      "metadata": {
        "id": "KC7ZMOezBnFn"
      },
      "source": [
        "newsdata = fetch_20newsgroups(subset='train')"
      ],
      "execution_count": 11,
      "outputs": []
    },
    {
      "cell_type": "code",
      "metadata": {
        "colab": {
          "base_uri": "https://localhost:8080/"
        },
        "id": "-SNprXpLBsqm",
        "outputId": "6cfb960c-2436-4220-d014-92e7b083d56d"
      },
      "source": [
        "print(newsdata.keys())\n",
        "print('# of samples: {}'.format(len(newsdata.data)))\n",
        "print('# of topics: {}'.format(len(newsdata.target_names)))\n",
        "print(newsdata.target_names)"
      ],
      "execution_count": 12,
      "outputs": [
        {
          "output_type": "stream",
          "name": "stdout",
          "text": [
            "dict_keys(['data', 'filenames', 'target_names', 'target', 'DESCR'])\n",
            "# of samples: 11314\n",
            "# of topics: 20\n",
            "['alt.atheism', 'comp.graphics', 'comp.os.ms-windows.misc', 'comp.sys.ibm.pc.hardware', 'comp.sys.mac.hardware', 'comp.windows.x', 'misc.forsale', 'rec.autos', 'rec.motorcycles', 'rec.sport.baseball', 'rec.sport.hockey', 'sci.crypt', 'sci.electronics', 'sci.med', 'sci.space', 'soc.religion.christian', 'talk.politics.guns', 'talk.politics.mideast', 'talk.politics.misc', 'talk.religion.misc']\n"
          ]
        }
      ]
    },
    {
      "cell_type": "code",
      "metadata": {
        "colab": {
          "base_uri": "https://localhost:8080/",
          "height": 204
        },
        "id": "Z3tCoDK9CNSZ",
        "outputId": "c9b40a37-9332-41cc-99fe-7d4ea6ed345a"
      },
      "source": [
        "# Create dataframe\n",
        "data = pd.DataFrame(newsdata.data, columns=['Email'])\n",
        "data['Target number'] = pd.Series(newsdata.target)\n",
        "data.head()"
      ],
      "execution_count": 13,
      "outputs": [
        {
          "output_type": "execute_result",
          "data": {
            "text/html": [
              "<div>\n",
              "<style scoped>\n",
              "    .dataframe tbody tr th:only-of-type {\n",
              "        vertical-align: middle;\n",
              "    }\n",
              "\n",
              "    .dataframe tbody tr th {\n",
              "        vertical-align: top;\n",
              "    }\n",
              "\n",
              "    .dataframe thead th {\n",
              "        text-align: right;\n",
              "    }\n",
              "</style>\n",
              "<table border=\"1\" class=\"dataframe\">\n",
              "  <thead>\n",
              "    <tr style=\"text-align: right;\">\n",
              "      <th></th>\n",
              "      <th>Email</th>\n",
              "      <th>Target number</th>\n",
              "    </tr>\n",
              "  </thead>\n",
              "  <tbody>\n",
              "    <tr>\n",
              "      <th>0</th>\n",
              "      <td>From: lerxst@wam.umd.edu (where's my thing)\\nS...</td>\n",
              "      <td>7</td>\n",
              "    </tr>\n",
              "    <tr>\n",
              "      <th>1</th>\n",
              "      <td>From: guykuo@carson.u.washington.edu (Guy Kuo)...</td>\n",
              "      <td>4</td>\n",
              "    </tr>\n",
              "    <tr>\n",
              "      <th>2</th>\n",
              "      <td>From: twillis@ec.ecn.purdue.edu (Thomas E Will...</td>\n",
              "      <td>4</td>\n",
              "    </tr>\n",
              "    <tr>\n",
              "      <th>3</th>\n",
              "      <td>From: jgreen@amber (Joe Green)\\nSubject: Re: W...</td>\n",
              "      <td>1</td>\n",
              "    </tr>\n",
              "    <tr>\n",
              "      <th>4</th>\n",
              "      <td>From: jcm@head-cfa.harvard.edu (Jonathan McDow...</td>\n",
              "      <td>14</td>\n",
              "    </tr>\n",
              "  </tbody>\n",
              "</table>\n",
              "</div>"
            ],
            "text/plain": [
              "                                               Email  Target number\n",
              "0  From: lerxst@wam.umd.edu (where's my thing)\\nS...              7\n",
              "1  From: guykuo@carson.u.washington.edu (Guy Kuo)...              4\n",
              "2  From: twillis@ec.ecn.purdue.edu (Thomas E Will...              4\n",
              "3  From: jgreen@amber (Joe Green)\\nSubject: Re: W...              1\n",
              "4  From: jcm@head-cfa.harvard.edu (Jonathan McDow...             14"
            ]
          },
          "metadata": {},
          "execution_count": 13
        }
      ]
    },
    {
      "cell_type": "code",
      "metadata": {
        "colab": {
          "base_uri": "https://localhost:8080/"
        },
        "id": "DLxLIKauTLFI",
        "outputId": "1b1e68b4-1917-44c8-8107-26da9ab4d26c"
      },
      "source": [
        "# Check if there are samples that have null values.\n",
        "data.info()"
      ],
      "execution_count": 14,
      "outputs": [
        {
          "output_type": "stream",
          "name": "stdout",
          "text": [
            "<class 'pandas.core.frame.DataFrame'>\n",
            "RangeIndex: 11314 entries, 0 to 11313\n",
            "Data columns (total 2 columns):\n",
            " #   Column         Non-Null Count  Dtype \n",
            "---  ------         --------------  ----- \n",
            " 0   Email          11314 non-null  object\n",
            " 1   Target number  11314 non-null  int64 \n",
            "dtypes: int64(1), object(1)\n",
            "memory usage: 176.9+ KB\n"
          ]
        }
      ]
    },
    {
      "cell_type": "code",
      "metadata": {
        "colab": {
          "base_uri": "https://localhost:8080/",
          "height": 307
        },
        "id": "YbQp5u2LTq7A",
        "outputId": "5c939ff9-52b5-4290-8679-f0ee4c11ac31"
      },
      "source": [
        "count = data.groupby('Target number').count().rename(columns={'Email': 'Count'})\n",
        "\n",
        "numbers = range(0, 20)\n",
        "plt.bar(numbers, count['Count'])\n",
        "plt.title('Distribution', fontsize=18)\n",
        "plt.xlabel('Target number', fontsize=18)\n",
        "plt.ylabel('Count', fontsize=18)\n",
        "plt.xticks(numbers, fontsize=10)\n",
        "plt.show()"
      ],
      "execution_count": 15,
      "outputs": [
        {
          "output_type": "display_data",
          "data": {
            "image/png": "[encoded data removed]",
            "text/plain": [
              "<Figure size 432x288 with 1 Axes>"
            ]
          },
          "metadata": {
            "needs_background": "light"
          }
        }
      ]
    },
    {
      "cell_type": "markdown",
      "metadata": {
        "id": "-_a6K8r4ZUB2"
      },
      "source": [
        "## Text classification using MLP"
      ]
    },
    {
      "cell_type": "code",
      "metadata": {
        "id": "yDURHkrgPDbm"
      },
      "source": [
        "# Retrieve data\n",
        "newsdata_train = fetch_20newsgroups(subset='train', shuffle=True)\n",
        "newsdata_test = fetch_20newsgroups(subset='test', shuffle=True)\n",
        "\n",
        "train_email = newsdata_train.data\n",
        "train_label = newsdata_train.target\n",
        "\n",
        "test_email = newsdata_test.data\n",
        "test_label = newsdata_test.target"
      ],
      "execution_count": 16,
      "outputs": []
    },
    {
      "cell_type": "code",
      "metadata": {
        "id": "HXf7JC7AZ-EP"
      },
      "source": [
        "max_words = 10000\n",
        "num_classes = 20\n",
        "\n",
        "def preprocessing(train_data, test_data, mode):\n",
        "  tokenizer = Tokenizer(num_words=max_words)\n",
        "  tokenizer.fit_on_texts(train_data)\n",
        "  x_train = tokenizer.texts_to_matrix(train_data, mode=mode)\n",
        "  x_test = tokenizer.texts_to_matrix(test_data, mode=mode)\n",
        "  return x_train, x_test, tokenizer.index_word"
      ],
      "execution_count": 17,
      "outputs": []
    },
    {
      "cell_type": "code",
      "metadata": {
        "id": "t6Uf474rFAXQ"
      },
      "source": [
        "x_train, x_test, index_to_word = preprocessing(train_email, test_email, 'binary')\n",
        "y_train = to_categorical(y=train_label, num_classes=num_classes)\n",
        "y_test = to_categorical(y=test_label, num_classes=num_classes)"
      ],
      "execution_count": 18,
      "outputs": []
    },
    {
      "cell_type": "markdown",
      "metadata": {
        "id": "B-Eoq2elF_fL"
      },
      "source": [
        "## Create MLP model"
      ]
    },
    {
      "cell_type": "code",
      "metadata": {
        "id": "4xFIOykGF6sY"
      },
      "source": [
        "from tensorflow.keras.models import Sequential\n",
        "from tensorflow.keras.layers import Input, Dense, Dropout"
      ],
      "execution_count": 19,
      "outputs": []
    },
    {
      "cell_type": "code",
      "metadata": {
        "colab": {
          "base_uri": "https://localhost:8080/"
        },
        "id": "lGWExM-ZGLe2",
        "outputId": "ffb32c87-9204-46a5-9940-bee0ffaae63a"
      },
      "source": [
        "model = Sequential(layers=[\n",
        "  Input(shape=(max_words, )),\n",
        "  Dense(units=256, activation='relu'),\n",
        "  Dropout(rate=0.5),\n",
        "  Dense(units=128, activation='relu'),\n",
        "  Dropout(rate=0.5),\n",
        "  Dense(units=num_classes, activation='softmax')\n",
        "])\n",
        "\n",
        "model.compile(optimizer='adam', loss='categorical_crossentropy', metrics=['acc'])\n",
        "history = model.fit(x_train, y_train, batch_size=128, epochs=5, verbose=1, validation_split=0.1)"
      ],
      "execution_count": 20,
      "outputs": [
        {
          "output_type": "stream",
          "name": "stdout",
          "text": [
            "Epoch 1/5\n",
            "80/80 [==============================] - 4s 46ms/step - loss: 2.3045 - acc: 0.3250 - val_loss: 1.0115 - val_acc: 0.8180\n",
            "Epoch 2/5\n",
            "80/80 [==============================] - 3s 43ms/step - loss: 0.8932 - acc: 0.7500 - val_loss: 0.4816 - val_acc: 0.8772\n",
            "Epoch 3/5\n",
            "80/80 [==============================] - 3s 43ms/step - loss: 0.4366 - acc: 0.8814 - val_loss: 0.3498 - val_acc: 0.8984\n",
            "Epoch 4/5\n",
            "80/80 [==============================] - 3s 43ms/step - loss: 0.2627 - acc: 0.9344 - val_loss: 0.3258 - val_acc: 0.9028\n",
            "Epoch 5/5\n",
            "80/80 [==============================] - 3s 43ms/step - loss: 0.1753 - acc: 0.9557 - val_loss: 0.3170 - val_acc: 0.9072\n"
          ]
        }
      ]
    },
    {
      "cell_type": "code",
      "metadata": {
        "colab": {
          "base_uri": "https://localhost:8080/",
          "height": 312
        },
        "id": "YuNW5vNJJxKf",
        "outputId": "a09ad988-1292-4463-f043-691a1c2ce813"
      },
      "source": [
        "print(history.history.keys())\n",
        "# Plot training history for model accuracy\n",
        "plt.plot(history.history['acc'])\n",
        "plt.plot(history.history['val_acc'])\n",
        "plt.title('model accuracy')\n",
        "plt.xlabel('epoch')\n",
        "plt.ylabel('accuracy')\n",
        "plt.legend(['train', 'test'], loc='upper left')\n",
        "plt.show()"
      ],
      "execution_count": 24,
      "outputs": [
        {
          "output_type": "stream",
          "name": "stdout",
          "text": [
            "dict_keys(['loss', 'acc', 'val_loss', 'val_acc'])\n"
          ]
        },
        {
          "output_type": "display_data",
          "data": {
            "image/png": "[encoded data removed]",
            "text/plain": [
              "<Figure size 432x288 with 1 Axes>"
            ]
          },
          "metadata": {
            "needs_background": "light"
          }
        }
      ]
    },
    {
      "cell_type": "code",
      "metadata": {
        "colab": {
          "base_uri": "https://localhost:8080/"
        },
        "id": "OpW_0dhgL8Gu",
        "outputId": "80905f84-7920-414a-f9b9-2defad979647"
      },
      "source": [
        "score = model.evaluate(x=x_test, y=y_test, batch_size=128, verbose=1)\n",
        "print('Model Accuracy when using binary mode: {}'.format(score[1]))"
      ],
      "execution_count": 26,
      "outputs": [
        {
          "output_type": "stream",
          "name": "stdout",
          "text": [
            "59/59 [==============================] - 1s 18ms/step - loss: 0.6334 - acc: 0.8278\n",
            "Model Accuracy when using binary mode: 0.8278014063835144\n"
          ]
        }
      ]
    },
    {
      "cell_type": "code",
      "metadata": {
        "id": "caPflN3LOBbp"
      },
      "source": [
        "# Tips: you should try to use different mode other than 'binary' like 'count', 'tfidf', 'freq' for your texts_to_matrix text preprocessing."
      ],
      "execution_count": 27,
      "outputs": []
    }
  ]
}