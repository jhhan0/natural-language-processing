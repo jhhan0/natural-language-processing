{
  "nbformat": 4,
  "nbformat_minor": 0,
  "metadata": {
    "colab": {
      "name": "text-preprocessing.ipynb",
      "provenance": [],
      "collapsed_sections": [],
      "authorship_tag": "ABX9TyN3uDAXra8OMGhkCpj6Sa85",
      "include_colab_link": true
    },
    "kernelspec": {
      "name": "python3",
      "display_name": "Python 3"
    },
    "language_info": {
      "name": "python"
    }
  },
  "cells": [
    {
      "cell_type": "markdown",
      "metadata": {
        "id": "view-in-github",
        "colab_type": "text"
      },
      "source": [
        "<a href=\"https://colab.research.google.com/github/jhhan0/learning-nlp/blob/main/text_preprocessing.ipynb\" target=\"_parent\"><img src=\"https://colab.research.google.com/assets/colab-badge.svg\" alt=\"Open In Colab\"/></a>"
      ]
    },
    {
      "cell_type": "markdown",
      "metadata": {
        "id": "OiMw4SRlBBTO"
      },
      "source": [
        "## Text preprocessing: Using nltk, keras and sklearn API to tokenize a corpus of documents\n"
      ]
    },
    {
      "cell_type": "markdown",
      "metadata": {
        "id": "IAniX7-IomXQ"
      },
      "source": [
        "### Tokenizing the text documents"
      ]
    },
    {
      "cell_type": "code",
      "metadata": {
        "id": "GysqyaQHhwx1",
        "colab": {
          "base_uri": "https://localhost:8080/"
        },
        "outputId": "c34ec6f1-90c0-48d3-cc9e-f322213c6f31"
      },
      "source": [
        "import nltk\n",
        "from tensorflow.keras.preprocessing.text import Tokenizer\n",
        "from nltk.tokenize import sent_tokenize\n",
        "from nltk.tokenize import word_tokenize\n",
        "nltk.download('punkt')\n",
        "from nltk.corpus import stopwords\n",
        "nltk.download('stopwords')\n",
        "stop_words = set(stopwords.words('english'))"
      ],
      "execution_count": 4,
      "outputs": [
        {
          "output_type": "stream",
          "name": "stdout",
          "text": [
            "[nltk_data] Downloading package punkt to /root/nltk_data...\n",
            "[nltk_data]   Unzipping tokenizers/punkt.zip.\n",
            "[nltk_data] Downloading package stopwords to /root/nltk_data...\n",
            "[nltk_data]   Unzipping corpora/stopwords.zip.\n"
          ]
        }
      ]
    },
    {
      "cell_type": "code",
      "metadata": {
        "colab": {
          "base_uri": "https://localhost:8080/"
        },
        "id": "gkbjy9uQG9do",
        "outputId": "dc71b413-0187-4454-9a33-452b1f77ca11"
      },
      "source": [
        "text = \"A barber is a person. a barber is good person. a barber is huge person. he Knew A Secret! The Secret He Kept is huge secret. Huge secret. His barber kept his word. a barber kept his word. His barber kept his secret. But keeping and keeping such a huge secret to himself was driving the barber crazy. the barber went up a huge mountain.\"\n",
        "text_to_sent = sent_tokenize(text)\n",
        "print(text_to_sent)"
      ],
      "execution_count": 5,
      "outputs": [
        {
          "output_type": "stream",
          "name": "stdout",
          "text": [
            "['A barber is a person.', 'a barber is good person.', 'a barber is huge person.', 'he Knew A Secret!', 'The Secret He Kept is huge secret.', 'Huge secret.', 'His barber kept his word.', 'a barber kept his word.', 'His barber kept his secret.', 'But keeping and keeping such a huge secret to himself was driving the barber crazy.', 'the barber went up a huge mountain.']\n"
          ]
        }
      ]
    },
    {
      "cell_type": "code",
      "metadata": {
        "colab": {
          "base_uri": "https://localhost:8080/"
        },
        "id": "f1NjDt_LGbmn",
        "outputId": "7714cb46-7389-4178-ef40-69faf9cb9483"
      },
      "source": [
        "# dictionary data structure\n",
        "vocab = {}\n",
        "# store lists of words in each sentence after cleaning\n",
        "clean_sentences = []\n",
        "\n",
        "# for each sentence\n",
        "for sent in text_to_sent:\n",
        "    # word tokenization    \n",
        "    sent_to_word = word_tokenize(sent)\n",
        "    # store words in each sentence after cleaning    \n",
        "    result = []\n",
        "    for word in sent_to_word:\n",
        "        # make words to lowercase        \n",
        "        word = word.lower()\n",
        "        if word not in stop_words:\n",
        "            if len(word) > 2:\n",
        "                result.append(word)\n",
        "                if word not in vocab:\n",
        "                    vocab[word] = 0\n",
        "                vocab[word] += 1\n",
        "    clean_sentences.append(result)\n",
        "print(clean_sentences)"
      ],
      "execution_count": 6,
      "outputs": [
        {
          "output_type": "stream",
          "name": "stdout",
          "text": [
            "[['barber', 'person'], ['barber', 'good', 'person'], ['barber', 'huge', 'person'], ['knew', 'secret'], ['secret', 'kept', 'huge', 'secret'], ['huge', 'secret'], ['barber', 'kept', 'word'], ['barber', 'kept', 'word'], ['barber', 'kept', 'secret'], ['keeping', 'keeping', 'huge', 'secret', 'driving', 'barber', 'crazy'], ['barber', 'went', 'huge', 'mountain']]\n"
          ]
        }
      ]
    },
    {
      "cell_type": "code",
      "metadata": {
        "id": "uXUcS0KAHbFN"
      },
      "source": [
        "# Tokenizer() class allows to vectorize a text corpus. For more information, visit https://www.tensorflow.org/api_docs/python/tf/keras/preprocessing/text/Tokenizer#arguments. \n",
        "tokenizer = Tokenizer()\n",
        "# fit_on_texts() method updates word vocabulary based on a parameter which is a list of tokenized texts (like words). \n",
        "tokenizer.fit_on_texts(clean_sentences)"
      ],
      "execution_count": 7,
      "outputs": []
    },
    {
      "cell_type": "code",
      "metadata": {
        "colab": {
          "base_uri": "https://localhost:8080/"
        },
        "id": "iNNLz3LJH2yR",
        "outputId": "fc8e2fce-811e-4bc6-a437-f9049ea12ba5"
      },
      "source": [
        "# each word has its own vocab index after calling fit_on_texts() function.\n",
        "print(tokenizer.word_index)"
      ],
      "execution_count": 8,
      "outputs": [
        {
          "output_type": "stream",
          "name": "stdout",
          "text": [
            "{'barber': 1, 'secret': 2, 'huge': 3, 'kept': 4, 'person': 5, 'word': 6, 'keeping': 7, 'good': 8, 'knew': 9, 'driving': 10, 'crazy': 11, 'went': 12, 'mountain': 13}\n"
          ]
        }
      ]
    },
    {
      "cell_type": "code",
      "metadata": {
        "colab": {
          "base_uri": "https://localhost:8080/"
        },
        "id": "0hSCH6adH9tK",
        "outputId": "4c6a3efe-0426-4ec6-de8c-05328ef134a0"
      },
      "source": [
        "# show word counts\n",
        "print(tokenizer.word_counts)"
      ],
      "execution_count": 9,
      "outputs": [
        {
          "output_type": "stream",
          "name": "stdout",
          "text": [
            "OrderedDict([('barber', 8), ('person', 3), ('good', 1), ('huge', 5), ('knew', 1), ('secret', 6), ('kept', 4), ('word', 2), ('keeping', 2), ('driving', 1), ('crazy', 1), ('went', 1), ('mountain', 1)])\n"
          ]
        }
      ]
    },
    {
      "cell_type": "code",
      "metadata": {
        "colab": {
          "base_uri": "https://localhost:8080/"
        },
        "id": "7QYGwvtPIQI8",
        "outputId": "52464937-2b66-4e7e-f953-b11511065c66"
      },
      "source": [
        "# texts_to_sequences() transforms each word in texts to a sequence of integers.\n",
        "print(tokenizer.texts_to_sequences(clean_sentences))"
      ],
      "execution_count": 10,
      "outputs": [
        {
          "output_type": "stream",
          "name": "stdout",
          "text": [
            "[[1, 5], [1, 8, 5], [1, 3, 5], [9, 2], [2, 4, 3, 2], [3, 2], [1, 4, 6], [1, 4, 6], [1, 4, 2], [7, 7, 3, 2, 10, 1, 11], [1, 12, 3, 13]]\n"
          ]
        }
      ]
    },
    {
      "cell_type": "markdown",
      "metadata": {
        "id": "Du90fbtiBLWZ"
      },
      "source": [
        "### Integer encoding and padding"
      ]
    },
    {
      "cell_type": "code",
      "metadata": {
        "id": "7mPNbCjXBN6P"
      },
      "source": [
        "from tensorflow.keras.preprocessing.sequence import pad_sequences"
      ],
      "execution_count": 1,
      "outputs": []
    },
    {
      "cell_type": "code",
      "metadata": {
        "colab": {
          "base_uri": "https://localhost:8080/"
        },
        "id": "thPko-aiOurd",
        "outputId": "3fb3a94d-cb8d-4a37-cfb6-cb470a03b70a"
      },
      "source": [
        "encoded = tokenizer.texts_to_sequences(clean_sentences)\n",
        "print(encoded)"
      ],
      "execution_count": 11,
      "outputs": [
        {
          "output_type": "stream",
          "name": "stdout",
          "text": [
            "[[1, 5], [1, 8, 5], [1, 3, 5], [9, 2], [2, 4, 3, 2], [3, 2], [1, 4, 6], [1, 4, 6], [1, 4, 2], [7, 7, 3, 2, 10, 1, 11], [1, 12, 3, 13]]\n"
          ]
        }
      ]
    },
    {
      "cell_type": "code",
      "metadata": {
        "colab": {
          "base_uri": "https://localhost:8080/"
        },
        "id": "KPivqMrgPku8",
        "outputId": "f239dc39-9004-443b-91f6-9c284638e995"
      },
      "source": [
        "# maxlen is to set the maximum length of all sequences. If not provided, it will automatically pad sequences to the longest length among them.\n",
        "# padding is to determine where the padding happens. In this case, padding happens at the end of each sequence. Use 'pre' otherwise. \n",
        "padded = pad_sequences(encoded, maxlen=10, padding='pre')\n",
        "print(padded)"
      ],
      "execution_count": 13,
      "outputs": [
        {
          "output_type": "stream",
          "name": "stdout",
          "text": [
            "[[ 0  0  0  0  0  0  0  0  1  5]\n",
            " [ 0  0  0  0  0  0  0  1  8  5]\n",
            " [ 0  0  0  0  0  0  0  1  3  5]\n",
            " [ 0  0  0  0  0  0  0  0  9  2]\n",
            " [ 0  0  0  0  0  0  2  4  3  2]\n",
            " [ 0  0  0  0  0  0  0  0  3  2]\n",
            " [ 0  0  0  0  0  0  0  1  4  6]\n",
            " [ 0  0  0  0  0  0  0  1  4  6]\n",
            " [ 0  0  0  0  0  0  0  1  4  2]\n",
            " [ 0  0  0  7  7  3  2 10  1 11]\n",
            " [ 0  0  0  0  0  0  1 12  3 13]]\n"
          ]
        }
      ]
    },
    {
      "cell_type": "markdown",
      "metadata": {
        "id": "UC7pa77zSYfK"
      },
      "source": [
        "### One-hot encoding"
      ]
    },
    {
      "cell_type": "code",
      "metadata": {
        "id": "SmvQQXRESdkD"
      },
      "source": [
        "from tensorflow.keras.utils import to_categorical\n",
        "text = 'Nike is better than Addias. However, Addias is cheaper than Nike. Nike and Addias are both good.'"
      ],
      "execution_count": 14,
      "outputs": []
    },
    {
      "cell_type": "code",
      "metadata": {
        "colab": {
          "base_uri": "https://localhost:8080/"
        },
        "id": "FaFbzW_HTcph",
        "outputId": "df34182e-754e-466d-cc5b-9ccbe8076988"
      },
      "source": [
        "one_hot_tokenizer = Tokenizer()\n",
        "one_hot_tokenizer.fit_on_texts([text])\n",
        "print(one_hot_tokenizer.word_counts)\n",
        "print(one_hot_tokenizer.word_index)"
      ],
      "execution_count": 15,
      "outputs": [
        {
          "output_type": "stream",
          "name": "stdout",
          "text": [
            "OrderedDict([('nike', 3), ('is', 2), ('better', 1), ('than', 2), ('addias', 3), ('however', 1), ('cheaper', 1), ('and', 1), ('are', 1), ('both', 1), ('good', 1)])\n",
            "{'nike': 1, 'addias': 2, 'is': 3, 'than': 4, 'better': 5, 'however': 6, 'cheaper': 7, 'and': 8, 'are': 9, 'both': 10, 'good': 11}\n"
          ]
        }
      ]
    },
    {
      "cell_type": "code",
      "metadata": {
        "colab": {
          "base_uri": "https://localhost:8080/"
        },
        "id": "7-iCkGf6TpRT",
        "outputId": "1ab3790e-0609-48e1-86c1-afa89cc4cb9a"
      },
      "source": [
        "encoded = one_hot_tokenizer.texts_to_sequences([text])[0]\n",
        "print(encoded)"
      ],
      "execution_count": 16,
      "outputs": [
        {
          "output_type": "stream",
          "name": "stdout",
          "text": [
            "[1, 3, 5, 4, 2, 6, 2, 3, 7, 4, 1, 1, 8, 2, 9, 10, 11]\n"
          ]
        }
      ]
    },
    {
      "cell_type": "code",
      "metadata": {
        "colab": {
          "base_uri": "https://localhost:8080/"
        },
        "id": "Mh73S59XWPuk",
        "outputId": "6fc9d0ef-a803-43d7-ba41-9a26c5dc6447"
      },
      "source": [
        "# to_categorical() converts integers to binary class matrix. https://www.tensorflow.org/api_docs/python/tf/keras/utils/to_categorical?version=nightly.\n",
        "one_hot = to_categorical(encoded)\n",
        "print(one_hot)"
      ],
      "execution_count": null,
      "outputs": [
        {
          "output_type": "stream",
          "name": "stdout",
          "text": [
            "[[0. 1. 0. 0. 0. 0. 0. 0. 0. 0. 0. 0.]\n",
            " [0. 0. 0. 1. 0. 0. 0. 0. 0. 0. 0. 0.]\n",
            " [0. 0. 0. 0. 0. 1. 0. 0. 0. 0. 0. 0.]\n",
            " [0. 0. 0. 0. 1. 0. 0. 0. 0. 0. 0. 0.]\n",
            " [0. 0. 1. 0. 0. 0. 0. 0. 0. 0. 0. 0.]\n",
            " [0. 0. 0. 0. 0. 0. 1. 0. 0. 0. 0. 0.]\n",
            " [0. 0. 1. 0. 0. 0. 0. 0. 0. 0. 0. 0.]\n",
            " [0. 0. 0. 1. 0. 0. 0. 0. 0. 0. 0. 0.]\n",
            " [0. 0. 0. 0. 0. 0. 0. 1. 0. 0. 0. 0.]\n",
            " [0. 0. 0. 0. 1. 0. 0. 0. 0. 0. 0. 0.]\n",
            " [0. 1. 0. 0. 0. 0. 0. 0. 0. 0. 0. 0.]\n",
            " [0. 1. 0. 0. 0. 0. 0. 0. 0. 0. 0. 0.]\n",
            " [0. 0. 0. 0. 0. 0. 0. 0. 1. 0. 0. 0.]\n",
            " [0. 0. 1. 0. 0. 0. 0. 0. 0. 0. 0. 0.]\n",
            " [0. 0. 0. 0. 0. 0. 0. 0. 0. 1. 0. 0.]\n",
            " [0. 0. 0. 0. 0. 0. 0. 0. 0. 0. 1. 0.]\n",
            " [0. 0. 0. 0. 0. 0. 0. 0. 0. 0. 0. 1.]]\n"
          ]
        }
      ]
    },
    {
      "cell_type": "markdown",
      "metadata": {
        "id": "3yLPREvdoKFC"
      },
      "source": [
        "## Using scikit learn for text feature extraction and TF-IDF term weighting\n",
        "\n",
        "If you want to know more about sklearn text feature extraction and linear kernel, visit https://scikit-learn.org/stable/modules/feature_extraction.html#text-feature-extraction for more detailed information."
      ]
    },
    {
      "cell_type": "markdown",
      "metadata": {
        "id": "W1QIDRWoYRnk"
      },
      "source": [
        "### Bag of Words (BoW)"
      ]
    },
    {
      "cell_type": "code",
      "metadata": {
        "id": "WJi54NP2UaHM"
      },
      "source": [
        "# Using sklearn CountVectorizer class\n",
        "from sklearn.feature_extraction.text import CountVectorizer"
      ],
      "execution_count": null,
      "outputs": []
    },
    {
      "cell_type": "code",
      "metadata": {
        "colab": {
          "base_uri": "https://localhost:8080/"
        },
        "id": "MUznsv7keGfP",
        "outputId": "b91d7195-0bf5-46f3-ae38-ba583328e7ec"
      },
      "source": [
        "corpus = ['A modern programming language that makes developers happier.']\n",
        "vector = CountVectorizer(stop_words='english')\n",
        "# count each vocab in a corpus and count its frequency\n",
        "print(vector.fit_transform(corpus).toarray())\n",
        "# each token is assigned to each index (note that CountVectorizer automatically cleans (removes) vocabs with 2 or less length before proceeding tokenization)\n",
        "print(vector.vocabulary_)"
      ],
      "execution_count": null,
      "outputs": [
        {
          "output_type": "stream",
          "name": "stdout",
          "text": [
            "[[1 1 1 1 1 1]]\n",
            "{'modern': 4, 'programming': 5, 'language': 2, 'makes': 3, 'developers': 0, 'happier': 1}\n"
          ]
        }
      ]
    },
    {
      "cell_type": "markdown",
      "metadata": {
        "id": "zi1z4_0rm2vr"
      },
      "source": [
        "### TF-IDF (Term Frequency - Inverse Document Frequency)"
      ]
    },
    {
      "cell_type": "code",
      "metadata": {
        "id": "KiHKIWqqm_Ge"
      },
      "source": [
        "# Using sklearn TfidfVectorizer class\n",
        "from sklearn.feature_extraction.text import TfidfVectorizer"
      ],
      "execution_count": null,
      "outputs": []
    },
    {
      "cell_type": "code",
      "metadata": {
        "colab": {
          "base_uri": "https://localhost:8080/"
        },
        "cellView": "code",
        "id": "dJiqMaN1LTXs",
        "outputId": "6d854439-55c2-4a36-bedd-bf130b4ff041"
      },
      "source": [
        "# TF-IDF generally compute a score (percentage) for each word to signify its importance in the document.\n",
        "# Ref: https://towardsdatascience.com/tf-idf-for-document-ranking-from-scratch-in-python-on-real-world-dataset-796d339a4089#:~:text=TF%2DIDF%20stands%20for%20%E2%80%9CTerm,Information%20Retrieval%20and%20Text%20Mining.\n",
        "\n",
        "corpus = [\n",
        "  'You know I want your love.',\n",
        "  'I like you',\n",
        "  'What should I do?'\n",
        "]\n",
        "\n",
        "tfidf = TfidfVectorizer()\n",
        "print(tfidf.fit_transform(corpus).toarray())\n",
        "print(tfidf.vocabulary_)"
      ],
      "execution_count": null,
      "outputs": [
        {
          "output_type": "stream",
          "name": "stdout",
          "text": [
            "[[0.         0.46735098 0.         0.46735098 0.         0.46735098\n",
            "  0.         0.35543247 0.46735098]\n",
            " [0.         0.         0.79596054 0.         0.         0.\n",
            "  0.         0.60534851 0.        ]\n",
            " [0.57735027 0.         0.         0.         0.57735027 0.\n",
            "  0.57735027 0.         0.        ]]\n",
            "{'you': 7, 'know': 1, 'want': 5, 'your': 8, 'love': 3, 'like': 2, 'what': 6, 'should': 4, 'do': 0}\n"
          ]
        }
      ]
    }
  ]
}